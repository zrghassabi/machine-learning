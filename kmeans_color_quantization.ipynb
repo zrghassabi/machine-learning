{
 "cells": [
  {
   "cell_type": "code",
   "execution_count": 134,
   "metadata": {},
   "outputs": [],
   "source": [
    "#import necessary packages\n",
    "\n",
    "import numpy as np\n",
    "import matplotlib.pyplot as plt"
   ]
  },
  {
   "cell_type": "code",
   "execution_count": 135,
   "metadata": {},
   "outputs": [
    {
     "data": {
      "image/png": "[encoded data removed]",
      "text/plain": [
       "<Figure size 432x288 with 1 Axes>"
      ]
     },
     "metadata": {
      "needs_background": "light"
     },
     "output_type": "display_data"
    }
   ],
   "source": [
    "#create data \n",
    "\n",
    "N=1000\n",
    "X=np.zeros((N,2))\n",
    "\n",
    "for i in range(0,N):\n",
    "    X[i,0]=np.random.randn()\n",
    "    X[i,1]=np.random.randn()\n",
    " \n",
    "normalize=1\n",
    "if normalize:\n",
    "        data=X\n",
    "        stats = (data.mean(axis=0), data.std(axis=0))\n",
    "        data = (data - stats[0]) / stats[1]    \n",
    "    \n",
    "    \n",
    "X=data    \n",
    "plt.scatter(X[:,0],X[:,1])\n",
    "plt.show()"
   ]
  },
  {
   "cell_type": "code",
   "execution_count": 136,
   "metadata": {},
   "outputs": [
    {
     "data": {
      "text/html": [
       "<div>\n",
       "<style scoped>\n",
       "    .dataframe tbody tr th:only-of-type {\n",
       "        vertical-align: middle;\n",
       "    }\n",
       "\n",
       "    .dataframe tbody tr th {\n",
       "        vertical-align: top;\n",
       "    }\n",
       "\n",
       "    .dataframe thead th {\n",
       "        text-align: right;\n",
       "    }\n",
       "</style>\n",
       "<table border=\"1\" class=\"dataframe\">\n",
       "  <thead>\n",
       "    <tr style=\"text-align: right;\">\n",
       "      <th></th>\n",
       "      <th>0</th>\n",
       "      <th>1</th>\n",
       "    </tr>\n",
       "  </thead>\n",
       "  <tbody>\n",
       "    <tr>\n",
       "      <th>0</th>\n",
       "      <td>1.120314</td>\n",
       "      <td>5.758061</td>\n",
       "    </tr>\n",
       "    <tr>\n",
       "      <th>1</th>\n",
       "      <td>3.549347</td>\n",
       "      <td>0.692505</td>\n",
       "    </tr>\n",
       "  </tbody>\n",
       "</table>\n",
       "</div>"
      ],
      "text/plain": [
       "          0         1\n",
       "0  1.120314  5.758061\n",
       "1  3.549347  0.692505"
      ]
     },
     "execution_count": 136,
     "metadata": {},
     "output_type": "execute_result"
    }
   ],
   "source": [
    "# use seaborn makblob to creata data\n",
    "\n",
    "N=8\n",
    "k=2 #number of clusters\n",
    "from sklearn.datasets import make_blobs\n",
    "X, y = make_blobs(n_samples=N, centers=k, n_features=2,random_state=0)\n",
    "\n",
    "import pandas as pd\n",
    "\n",
    "dfX=pd.DataFrame(X)\n",
    "dfX.head(2)"
   ]
  },
  {
   "cell_type": "code",
   "execution_count": 137,
   "metadata": {},
   "outputs": [],
   "source": [
    "# select centroids \n",
    "\n",
    "#k=3 #number of clusters\n",
    "\n",
    "##1)randomly\n",
    "#K_rand_nums=np.random.randint(N,size=k)\n",
    "#init_centroids_cordinates=np.zeros((k,2))\n",
    "#for i in range(0,len(K_rand_nums)): \n",
    "#    init_centroids_cordinates[i,:]=X[K_rand_nums[i],:]\n",
    "\n",
    "#init_centroids_cordinates    "
   ]
  },
  {
   "cell_type": "code",
   "execution_count": 138,
   "metadata": {},
   "outputs": [
    {
     "data": {
      "text/plain": [
       "[0    2.368335\n",
       " 1    0.043568\n",
       " Name: 6, dtype: float64,\n",
       " 0    2.499131\n",
       " 1    1.231338\n",
       " Name: 3, dtype: float64]"
      ]
     },
     "execution_count": 138,
     "metadata": {},
     "output_type": "execute_result"
    }
   ],
   "source": [
    "# 2) or you can use random\n",
    "import random\n",
    "init_centroids = random.sample(range(0, len(X)), k)\n",
    "centroids = []\n",
    "for i in init_centroids:\n",
    "    #centroids.append(X[i,:])\n",
    "    #or\n",
    "    centroids.append(dfX.loc[i])\n",
    "centroids"
   ]
  },
  {
   "cell_type": "code",
   "execution_count": 139,
   "metadata": {},
   "outputs": [],
   "source": [
    "centroids = np.array(centroids)"
   ]
  },
  {
   "cell_type": "code",
   "execution_count": 140,
   "metadata": {},
   "outputs": [],
   "source": [
    "# distance between two points:\n",
    "def calc_distance(X1, X2):\n",
    "    return(sum((X1 - X2)**2))**0.5"
   ]
  },
  {
   "cell_type": "code",
   "execution_count": 141,
   "metadata": {},
   "outputs": [],
   "source": [
    "# assign data points to each centroid. We have 5 centroids. so indices:1-5\n",
    "def findClosestCentroids(ic, X):\n",
    "    assigned_centroid = []\n",
    "    for i in X:\n",
    "        distance=[]\n",
    "        for j in ic:\n",
    "            distance.append(calc_distance(i, j))\n",
    "        assigned_centroid.append(np.argmin(distance))\n",
    "    #print(distance.shape)    \n",
    "    return assigned_centroid\n"
   ]
  },
  {
   "cell_type": "code",
   "execution_count": 142,
   "metadata": {},
   "outputs": [
    {
     "data": {
      "text/plain": [
       "[1, 1, 1, 1, 1, 1, 1, 1]"
      ]
     },
     "execution_count": 142,
     "metadata": {},
     "output_type": "execute_result"
    }
   ],
   "source": [
    "#test\n",
    "get_centroids=findClosestCentroids(init_centroids,X)\n",
    "get_centroids"
   ]
  },
  {
   "cell_type": "code",
   "execution_count": 143,
   "metadata": {},
   "outputs": [],
   "source": [
    "#move centroids\n",
    "import pandas as pd\n",
    "def calc_centroids(clusters, X):\n",
    "    new_centroids = []\n",
    "    new_df = pd.concat([pd.DataFrame(X), pd.DataFrame(clusters, columns=['cluster'])],axis=1) #adds as a column\n",
    "    print(new_df)\n",
    "    for c in set(new_df['cluster']):\n",
    "        current_cluster = new_df[new_df['cluster'] == c][new_df.columns[:-1]]\n",
    "        print(current_cluster)\n",
    "        cluster_mean = current_cluster.mean(axis=0)\n",
    "        new_centroids.append(cluster_mean)\n",
    "    return new_centroids"
   ]
  },
  {
   "cell_type": "code",
   "execution_count": 133,
   "metadata": {},
   "outputs": [
    {
     "name": "stdout",
     "output_type": "stream",
     "text": [
      "          0         1  cluster\n",
      "0  1.120314  5.758061        0\n",
      "1  3.549347  0.692505        1\n",
      "2  2.816305  1.019339        1\n",
      "3  2.499131  1.231338        1\n",
      "4  0.873051  4.714386        0\n",
      "5  2.843828  3.326509        1\n",
      "6  2.368335  0.043568        1\n",
      "7  1.926358  4.152430        0\n",
      "          0         1\n",
      "0  1.120314  5.758061\n",
      "4  0.873051  4.714386\n",
      "7  1.926358  4.152430\n",
      "          0         1\n",
      "1  3.549347  0.692505\n",
      "2  2.816305  1.019339\n",
      "3  2.499131  1.231338\n",
      "5  2.843828  3.326509\n",
      "6  2.368335  0.043568\n",
      "[0    1.306574\n",
      "1    4.874959\n",
      "dtype: float64, 0    2.815389\n",
      "1    1.262652\n",
      "dtype: float64]\n"
     ]
    },
    {
     "data": {
      "image/png": "[encoded data removed]",
      "text/plain": [
       "<Figure size 432x288 with 1 Axes>"
      ]
     },
     "metadata": {
      "needs_background": "light"
     },
     "output_type": "display_data"
    }
   ],
   "source": [
    "for i in range(1):\n",
    "    get_centroids = findClosestCentroids(centroids, X)\n",
    "    centroids = calc_centroids(get_centroids, X)\n",
    "    #print(centroids)\n",
    "    plt.figure()\n",
    "    plt.scatter(np.array(centroids)[:, 0], np.array(centroids)[:, 1], color='black')\n",
    "    plt.scatter(X[:, 0], X[:, 1], alpha=0.1)\n",
    "    plt.show()"
   ]
  },
  {
   "cell_type": "markdown",
   "metadata": {},
   "source": [
    "# dimension reduction"
   ]
  },
  {
   "cell_type": "code",
   "execution_count": 33,
   "metadata": {},
   "outputs": [],
   "source": [
    "import cv2\n",
    "im = cv2.imread('frog.png')\n",
    "im"
   ]
  },
  {
   "cell_type": "code",
   "execution_count": null,
   "metadata": {},
   "outputs": [],
   "source": [
    "im.sgape"
   ]
  },
  {
   "cell_type": "code",
   "execution_count": null,
   "metadata": {},
   "outputs": [],
   "source": [
    "im = (im/255).reshape(155*201, 3)"
   ]
  },
  {
   "cell_type": "code",
   "execution_count": null,
   "metadata": {},
   "outputs": [],
   "source": [
    "random_index = random.sample(range(0, len(im)), 10)"
   ]
  },
  {
   "cell_type": "code",
   "execution_count": null,
   "metadata": {},
   "outputs": [],
   "source": [
    "centroids = []\n",
    "for i in random_index:\n",
    "    centroids.append(im[i])\n",
    "centroids = np.array(centroids)"
   ]
  },
  {
   "cell_type": "code",
   "execution_count": null,
   "metadata": {},
   "outputs": [],
   "source": [
    "im = np.array(im)"
   ]
  },
  {
   "cell_type": "code",
   "execution_count": null,
   "metadata": {},
   "outputs": [],
   "source": [
    "for i in range(20):\n",
    "    get_centroids = findClosestCentroids(centroids, im)\n",
    "    centroids = calc_centroids(get_centroids, im)"
   ]
  },
  {
   "cell_type": "code",
   "execution_count": null,
   "metadata": {},
   "outputs": [],
   "source": [
    "im_recovered = im.copy()\n",
    "for i in range(len(im)):\n",
    "    im_recovered[i] = centroids[get_centroids[i]]"
   ]
  },
  {
   "cell_type": "code",
   "execution_count": null,
   "metadata": {},
   "outputs": [],
   "source": [
    "im_recovered = im_recovered.reshape(155, 201, 3)"
   ]
  },
  {
   "cell_type": "code",
   "execution_count": null,
   "metadata": {},
   "outputs": [],
   "source": [
    "im1 = cv2.imread('frog.png')\n",
    "import matplotlib.image as mpimg\n",
    "fig,ax = plt.subplots(1,2)\n",
    "ax[0].imshow(im1)\n",
    "ax[1].imshow(im_recovered)"
   ]
  },
  {
   "cell_type": "code",
   "execution_count": null,
   "metadata": {},
   "outputs": [],
   "source": []
  }
 ],
 "metadata": {
  "kernelspec": {
   "display_name": "Python 3",
   "language": "python",
   "name": "python3"
  },
  "language_info": {
   "codemirror_mode": {
    "name": "ipython",
    "version": 3
   },
   "file_extension": ".py",
   "mimetype": "text/x-python",
   "name": "python",
   "nbconvert_exporter": "python",
   "pygments_lexer": "ipython3",
   "version": "3.8.5"
  }
 },
 "nbformat": 4,
 "nbformat_minor": 4
}
